{
  "nbformat": 4,
  "nbformat_minor": 0,
  "metadata": {
    "colab": {
      "provenance": [],
      "gpuType": "T4"
    },
    "kernelspec": {
      "name": "python3",
      "display_name": "Python 3"
    },
    "language_info": {
      "name": "python"
    },
    "accelerator": "GPU"
  },
  "cells": [
    {
      "cell_type": "markdown",
      "source": [
        "**CA2**\n",
        "\n",
        "**Submitted by**\n",
        "\n",
        "Bhupinder Singh (ID: 10634583)\n",
        "\n",
        "Jaswanth Reddy Mali (ID: 10638130)\n",
        "\n",
        "Linga Reddy Mamidi (ID: 10635793)"
      ],
      "metadata": {
        "id": "mJ1issl47aRS"
      }
    },
    {
      "cell_type": "markdown",
      "source": [
        "The process starts with importing necessary packages.\n"
      ],
      "metadata": {
        "id": "O3xGkVq8Xmu2"
      }
    },
    {
      "cell_type": "code",
      "execution_count": null,
      "metadata": {
        "id": "y2E7mNtT7F2H"
      },
      "outputs": [],
      "source": [
        "import numpy as np\n",
        "import pandas as pd\n",
        "import seaborn as sns\n",
        "from matplotlib import pyplot as plt\n",
        "from sklearn.model_selection import train_test_split\n",
        "from sklearn.utils import resample\n",
        "from sklearn.preprocessing import StandardScaler\n",
        "import time\n"
      ]
    },
    {
      "cell_type": "markdown",
      "source": [
        "The following code installs h2o."
      ],
      "metadata": {
        "id": "WZkpjQT3y4RR"
      }
    },
    {
      "cell_type": "code",
      "source": [
        "pip install h2o"
      ],
      "metadata": {
        "colab": {
          "base_uri": "https://localhost:8080/"
        },
        "id": "2lyt2BJ47O--",
        "outputId": "f86a10d5-c6c2-4ab4-959e-bdc506058e69"
      },
      "execution_count": null,
      "outputs": [
        {
          "output_type": "stream",
          "name": "stdout",
          "text": [
            "Requirement already satisfied: h2o in /usr/local/lib/python3.10/dist-packages (3.42.0.2)\n",
            "Requirement already satisfied: requests in /usr/local/lib/python3.10/dist-packages (from h2o) (2.31.0)\n",
            "Requirement already satisfied: tabulate in /usr/local/lib/python3.10/dist-packages (from h2o) (0.9.0)\n",
            "Requirement already satisfied: charset-normalizer<4,>=2 in /usr/local/lib/python3.10/dist-packages (from requests->h2o) (3.2.0)\n",
            "Requirement already satisfied: idna<4,>=2.5 in /usr/local/lib/python3.10/dist-packages (from requests->h2o) (3.4)\n",
            "Requirement already satisfied: urllib3<3,>=1.21.1 in /usr/local/lib/python3.10/dist-packages (from requests->h2o) (2.0.4)\n",
            "Requirement already satisfied: certifi>=2017.4.17 in /usr/local/lib/python3.10/dist-packages (from requests->h2o) (2023.7.22)\n"
          ]
        }
      ]
    },
    {
      "cell_type": "markdown",
      "source": [
        "The following code reads the csv file. The file has to be uploaded on google colab every time. Otherwise, the upcoming codes will not work. **The dataset has been upsampled from rapidminer so that imbalance of the class can be removed. **"
      ],
      "metadata": {
        "id": "P0yMT6oM6-gM"
      }
    },
    {
      "cell_type": "code",
      "source": [
        "data = pd.read_csv(\"/content/diabetes.csv\", sep=';')"
      ],
      "metadata": {
        "id": "uVcdKAxr7ei7"
      },
      "execution_count": null,
      "outputs": []
    },
    {
      "cell_type": "code",
      "source": [
        "data.head()"
      ],
      "metadata": {
        "colab": {
          "base_uri": "https://localhost:8080/",
          "height": 206
        },
        "id": "Vn9qmedTFkaL",
        "outputId": "3bb341e7-3bfe-4661-8e09-f6af971910ce"
      },
      "execution_count": null,
      "outputs": [
        {
          "output_type": "execute_result",
          "data": {
            "text/plain": [
              "   Pregnancies  Glucose  BloodPressure  SkinThickness  Insulin   BMI  \\\n",
              "0            6      148             72             35        0  33.6   \n",
              "1            1       85             66             29        0  26.6   \n",
              "2            8      183             64              0        0  23.3   \n",
              "3            1       89             66             23       94  28.1   \n",
              "4            0      137             40             35      168  43.1   \n",
              "\n",
              "   DiabetesPedigreeFunction  Age  Outcome  \n",
              "0                     0.627   50        1  \n",
              "1                     0.351   31        0  \n",
              "2                     0.672   32        1  \n",
              "3                     0.167   21        0  \n",
              "4                     2.288   33        1  "
            ],
            "text/html": [
              "\n",
              "\n",
              "  <div id=\"df-dc0bacb1-d02b-4404-b03b-0d4c94ebb0f0\">\n",
              "    <div class=\"colab-df-container\">\n",
              "      <div>\n",
              "<style scoped>\n",
              "    .dataframe tbody tr th:only-of-type {\n",
              "        vertical-align: middle;\n",
              "    }\n",
              "\n",
              "    .dataframe tbody tr th {\n",
              "        vertical-align: top;\n",
              "    }\n",
              "\n",
              "    .dataframe thead th {\n",
              "        text-align: right;\n",
              "    }\n",
              "</style>\n",
              "<table border=\"1\" class=\"dataframe\">\n",
              "  <thead>\n",
              "    <tr style=\"text-align: right;\">\n",
              "      <th></th>\n",
              "      <th>Pregnancies</th>\n",
              "      <th>Glucose</th>\n",
              "      <th>BloodPressure</th>\n",
              "      <th>SkinThickness</th>\n",
              "      <th>Insulin</th>\n",
              "      <th>BMI</th>\n",
              "      <th>DiabetesPedigreeFunction</th>\n",
              "      <th>Age</th>\n",
              "      <th>Outcome</th>\n",
              "    </tr>\n",
              "  </thead>\n",
              "  <tbody>\n",
              "    <tr>\n",
              "      <th>0</th>\n",
              "      <td>6</td>\n",
              "      <td>148</td>\n",
              "      <td>72</td>\n",
              "      <td>35</td>\n",
              "      <td>0</td>\n",
              "      <td>33.6</td>\n",
              "      <td>0.627</td>\n",
              "      <td>50</td>\n",
              "      <td>1</td>\n",
              "    </tr>\n",
              "    <tr>\n",
              "      <th>1</th>\n",
              "      <td>1</td>\n",
              "      <td>85</td>\n",
              "      <td>66</td>\n",
              "      <td>29</td>\n",
              "      <td>0</td>\n",
              "      <td>26.6</td>\n",
              "      <td>0.351</td>\n",
              "      <td>31</td>\n",
              "      <td>0</td>\n",
              "    </tr>\n",
              "    <tr>\n",
              "      <th>2</th>\n",
              "      <td>8</td>\n",
              "      <td>183</td>\n",
              "      <td>64</td>\n",
              "      <td>0</td>\n",
              "      <td>0</td>\n",
              "      <td>23.3</td>\n",
              "      <td>0.672</td>\n",
              "      <td>32</td>\n",
              "      <td>1</td>\n",
              "    </tr>\n",
              "    <tr>\n",
              "      <th>3</th>\n",
              "      <td>1</td>\n",
              "      <td>89</td>\n",
              "      <td>66</td>\n",
              "      <td>23</td>\n",
              "      <td>94</td>\n",
              "      <td>28.1</td>\n",
              "      <td>0.167</td>\n",
              "      <td>21</td>\n",
              "      <td>0</td>\n",
              "    </tr>\n",
              "    <tr>\n",
              "      <th>4</th>\n",
              "      <td>0</td>\n",
              "      <td>137</td>\n",
              "      <td>40</td>\n",
              "      <td>35</td>\n",
              "      <td>168</td>\n",
              "      <td>43.1</td>\n",
              "      <td>2.288</td>\n",
              "      <td>33</td>\n",
              "      <td>1</td>\n",
              "    </tr>\n",
              "  </tbody>\n",
              "</table>\n",
              "</div>\n",
              "      <button class=\"colab-df-convert\" onclick=\"convertToInteractive('df-dc0bacb1-d02b-4404-b03b-0d4c94ebb0f0')\"\n",
              "              title=\"Convert this dataframe to an interactive table.\"\n",
              "              style=\"display:none;\">\n",
              "\n",
              "  <svg xmlns=\"http://www.w3.org/2000/svg\" height=\"24px\"viewBox=\"0 0 24 24\"\n",
              "       width=\"24px\">\n",
              "    <path d=\"M0 0h24v24H0V0z\" fill=\"none\"/>\n",
              "    <path d=\"M18.56 5.44l.94 2.06.94-2.06 2.06-.94-2.06-.94-.94-2.06-.94 2.06-2.06.94zm-11 1L8.5 8.5l.94-2.06 2.06-.94-2.06-.94L8.5 2.5l-.94 2.06-2.06.94zm10 10l.94 2.06.94-2.06 2.06-.94-2.06-.94-.94-2.06-.94 2.06-2.06.94z\"/><path d=\"M17.41 7.96l-1.37-1.37c-.4-.4-.92-.59-1.43-.59-.52 0-1.04.2-1.43.59L10.3 9.45l-7.72 7.72c-.78.78-.78 2.05 0 2.83L4 21.41c.39.39.9.59 1.41.59.51 0 1.02-.2 1.41-.59l7.78-7.78 2.81-2.81c.8-.78.8-2.07 0-2.86zM5.41 20L4 18.59l7.72-7.72 1.47 1.35L5.41 20z\"/>\n",
              "  </svg>\n",
              "      </button>\n",
              "\n",
              "\n",
              "\n",
              "    <div id=\"df-99962f4a-8565-4ee4-aabe-604121500fa5\">\n",
              "      <button class=\"colab-df-quickchart\" onclick=\"quickchart('df-99962f4a-8565-4ee4-aabe-604121500fa5')\"\n",
              "              title=\"Suggest charts.\"\n",
              "              style=\"display:none;\">\n",
              "\n",
              "<svg xmlns=\"http://www.w3.org/2000/svg\" height=\"24px\"viewBox=\"0 0 24 24\"\n",
              "     width=\"24px\">\n",
              "    <g>\n",
              "        <path d=\"M19 3H5c-1.1 0-2 .9-2 2v14c0 1.1.9 2 2 2h14c1.1 0 2-.9 2-2V5c0-1.1-.9-2-2-2zM9 17H7v-7h2v7zm4 0h-2V7h2v10zm4 0h-2v-4h2v4z\"/>\n",
              "    </g>\n",
              "</svg>\n",
              "      </button>\n",
              "    </div>\n",
              "\n",
              "<style>\n",
              "  .colab-df-quickchart {\n",
              "    background-color: #E8F0FE;\n",
              "    border: none;\n",
              "    border-radius: 50%;\n",
              "    cursor: pointer;\n",
              "    display: none;\n",
              "    fill: #1967D2;\n",
              "    height: 32px;\n",
              "    padding: 0 0 0 0;\n",
              "    width: 32px;\n",
              "  }\n",
              "\n",
              "  .colab-df-quickchart:hover {\n",
              "    background-color: #E2EBFA;\n",
              "    box-shadow: 0px 1px 2px rgba(60, 64, 67, 0.3), 0px 1px 3px 1px rgba(60, 64, 67, 0.15);\n",
              "    fill: #174EA6;\n",
              "  }\n",
              "\n",
              "  [theme=dark] .colab-df-quickchart {\n",
              "    background-color: #3B4455;\n",
              "    fill: #D2E3FC;\n",
              "  }\n",
              "\n",
              "  [theme=dark] .colab-df-quickchart:hover {\n",
              "    background-color: #434B5C;\n",
              "    box-shadow: 0px 1px 3px 1px rgba(0, 0, 0, 0.15);\n",
              "    filter: drop-shadow(0px 1px 2px rgba(0, 0, 0, 0.3));\n",
              "    fill: #FFFFFF;\n",
              "  }\n",
              "</style>\n",
              "\n",
              "    <script>\n",
              "      async function quickchart(key) {\n",
              "        const containerElement = document.querySelector('#' + key);\n",
              "        const charts = await google.colab.kernel.invokeFunction(\n",
              "            'suggestCharts', [key], {});\n",
              "      }\n",
              "    </script>\n",
              "\n",
              "      <script>\n",
              "\n",
              "function displayQuickchartButton(domScope) {\n",
              "  let quickchartButtonEl =\n",
              "    domScope.querySelector('#df-99962f4a-8565-4ee4-aabe-604121500fa5 button.colab-df-quickchart');\n",
              "  quickchartButtonEl.style.display =\n",
              "    google.colab.kernel.accessAllowed ? 'block' : 'none';\n",
              "}\n",
              "\n",
              "        displayQuickchartButton(document);\n",
              "      </script>\n",
              "      <style>\n",
              "    .colab-df-container {\n",
              "      display:flex;\n",
              "      flex-wrap:wrap;\n",
              "      gap: 12px;\n",
              "    }\n",
              "\n",
              "    .colab-df-convert {\n",
              "      background-color: #E8F0FE;\n",
              "      border: none;\n",
              "      border-radius: 50%;\n",
              "      cursor: pointer;\n",
              "      display: none;\n",
              "      fill: #1967D2;\n",
              "      height: 32px;\n",
              "      padding: 0 0 0 0;\n",
              "      width: 32px;\n",
              "    }\n",
              "\n",
              "    .colab-df-convert:hover {\n",
              "      background-color: #E2EBFA;\n",
              "      box-shadow: 0px 1px 2px rgba(60, 64, 67, 0.3), 0px 1px 3px 1px rgba(60, 64, 67, 0.15);\n",
              "      fill: #174EA6;\n",
              "    }\n",
              "\n",
              "    [theme=dark] .colab-df-convert {\n",
              "      background-color: #3B4455;\n",
              "      fill: #D2E3FC;\n",
              "    }\n",
              "\n",
              "    [theme=dark] .colab-df-convert:hover {\n",
              "      background-color: #434B5C;\n",
              "      box-shadow: 0px 1px 3px 1px rgba(0, 0, 0, 0.15);\n",
              "      filter: drop-shadow(0px 1px 2px rgba(0, 0, 0, 0.3));\n",
              "      fill: #FFFFFF;\n",
              "    }\n",
              "  </style>\n",
              "\n",
              "      <script>\n",
              "        const buttonEl =\n",
              "          document.querySelector('#df-dc0bacb1-d02b-4404-b03b-0d4c94ebb0f0 button.colab-df-convert');\n",
              "        buttonEl.style.display =\n",
              "          google.colab.kernel.accessAllowed ? 'block' : 'none';\n",
              "\n",
              "        async function convertToInteractive(key) {\n",
              "          const element = document.querySelector('#df-dc0bacb1-d02b-4404-b03b-0d4c94ebb0f0');\n",
              "          const dataTable =\n",
              "            await google.colab.kernel.invokeFunction('convertToInteractive',\n",
              "                                                     [key], {});\n",
              "          if (!dataTable) return;\n",
              "\n",
              "          const docLinkHtml = 'Like what you see? Visit the ' +\n",
              "            '<a target=\"_blank\" href=https://colab.research.google.com/notebooks/data_table.ipynb>data table notebook</a>'\n",
              "            + ' to learn more about interactive tables.';\n",
              "          element.innerHTML = '';\n",
              "          dataTable['output_type'] = 'display_data';\n",
              "          await google.colab.output.renderOutput(dataTable, element);\n",
              "          const docLink = document.createElement('div');\n",
              "          docLink.innerHTML = docLinkHtml;\n",
              "          element.appendChild(docLink);\n",
              "        }\n",
              "      </script>\n",
              "    </div>\n",
              "  </div>\n"
            ]
          },
          "metadata": {},
          "execution_count": 4
        }
      ]
    },
    {
      "cell_type": "markdown",
      "source": [
        "The following code checks whether the data is balanced or not. We know that the upsampling brings balance in the dataset outcome, but still for confirmation, we used the following code."
      ],
      "metadata": {
        "id": "BoObr6tX28Hd"
      }
    },
    {
      "cell_type": "code",
      "source": [
        "plt.figure(figsize=(6, 4))\n",
        "sns.countplot(data=data, x='Outcome')\n",
        "plt.xlabel('Outcome')\n",
        "plt.ylabel('Count')\n",
        "plt.title('Class Distribution of Outcome')\n",
        "plt.show()\n"
      ],
      "metadata": {
        "colab": {
          "base_uri": "https://localhost:8080/",
          "height": 410
        },
        "id": "npM1VMX7MkMj",
        "outputId": "658037e1-2c48-49c9-9a29-54959b540b97"
      },
      "execution_count": null,
      "outputs": [
        {
          "output_type": "display_data",
          "data": {
            "text/plain": [
              "<Figure size 600x400 with 1 Axes>"
            ],
            "image/png": "[encoded data removed]"
          },
          "metadata": {}
        }
      ]
    },
    {
      "cell_type": "markdown",
      "source": [
        "Since data is imbalanced, we need to first preprocess the data and then balance it for logistic regression and GLM model."
      ],
      "metadata": {
        "id": "mgAfGDPP3BAi"
      }
    },
    {
      "cell_type": "markdown",
      "source": [
        "The following code lists the missing values in data in the form of percentage."
      ],
      "metadata": {
        "id": "sC3spZh53N0V"
      }
    },
    {
      "cell_type": "code",
      "source": [
        "total = data.isnull().sum().sort_values(ascending=False)\n",
        "percent = (data.isnull().sum()/data.isnull().count()).sort_values(ascending=False)\n",
        "missing = pd.concat([total, percent], axis=1, keys=['Total', 'Percent'])\n",
        "print(missing)"
      ],
      "metadata": {
        "colab": {
          "base_uri": "https://localhost:8080/"
        },
        "id": "fXgDmhIZFlts",
        "outputId": "99834a58-9dc6-4e29-f067-94c47308831e"
      },
      "execution_count": null,
      "outputs": [
        {
          "output_type": "stream",
          "name": "stdout",
          "text": [
            "                          Total  Percent\n",
            "Pregnancies                   0      0.0\n",
            "Glucose                       0      0.0\n",
            "BloodPressure                 0      0.0\n",
            "SkinThickness                 0      0.0\n",
            "Insulin                       0      0.0\n",
            "BMI                           0      0.0\n",
            "DiabetesPedigreeFunction      0      0.0\n",
            "Age                           0      0.0\n",
            "Outcome                       0      0.0\n"
          ]
        }
      ]
    },
    {
      "cell_type": "code",
      "source": [
        "data.info()"
      ],
      "metadata": {
        "colab": {
          "base_uri": "https://localhost:8080/"
        },
        "id": "6nhXOIKFF6zY",
        "outputId": "56794602-5f1a-46c2-ccaa-3ac01823a677"
      },
      "execution_count": null,
      "outputs": [
        {
          "output_type": "stream",
          "name": "stdout",
          "text": [
            "<class 'pandas.core.frame.DataFrame'>\n",
            "RangeIndex: 1000 entries, 0 to 999\n",
            "Data columns (total 9 columns):\n",
            " #   Column                    Non-Null Count  Dtype  \n",
            "---  ------                    --------------  -----  \n",
            " 0   Pregnancies               1000 non-null   int64  \n",
            " 1   Glucose                   1000 non-null   int64  \n",
            " 2   BloodPressure             1000 non-null   int64  \n",
            " 3   SkinThickness             1000 non-null   int64  \n",
            " 4   Insulin                   1000 non-null   int64  \n",
            " 5   BMI                       1000 non-null   float64\n",
            " 6   DiabetesPedigreeFunction  1000 non-null   float64\n",
            " 7   Age                       1000 non-null   int64  \n",
            " 8   Outcome                   1000 non-null   int64  \n",
            "dtypes: float64(2), int64(7)\n",
            "memory usage: 70.4 KB\n"
          ]
        }
      ]
    },
    {
      "cell_type": "code",
      "source": [
        "print(data)"
      ],
      "metadata": {
        "colab": {
          "base_uri": "https://localhost:8080/"
        },
        "id": "-b-YxcmcHSUm",
        "outputId": "969b79b0-f692-4028-bfe5-54578a8e4918"
      },
      "execution_count": null,
      "outputs": [
        {
          "output_type": "stream",
          "name": "stdout",
          "text": [
            "     Pregnancies  Glucose  BloodPressure  SkinThickness  Insulin        BMI  \\\n",
            "0              6      148             72             35        0  33.600000   \n",
            "1              1       85             66             29        0  26.600000   \n",
            "2              8      183             64              0        0  23.300000   \n",
            "3              1       89             66             23       94  28.100000   \n",
            "4              0      137             40             35      168  43.100000   \n",
            "..           ...      ...            ...            ...      ...        ...   \n",
            "995            7      159             91              0        0  30.572934   \n",
            "996            3      170             74             13      105  30.326860   \n",
            "997           12       88             74             28      150  32.338443   \n",
            "998            4      185             85             27      157  43.592016   \n",
            "999            3      169             64             36      229  32.757281   \n",
            "\n",
            "     DiabetesPedigreeFunction  Age  Outcome  \n",
            "0                    0.627000   50        1  \n",
            "1                    0.351000   31        0  \n",
            "2                    0.672000   32        1  \n",
            "3                    0.167000   21        0  \n",
            "4                    2.288000   33        1  \n",
            "..                        ...  ...      ...  \n",
            "995                  0.676464   46        1  \n",
            "996                  0.273912   30        1  \n",
            "997                  0.361790   46        1  \n",
            "998                  1.036220   52        1  \n",
            "999                  0.512798   29        1  \n",
            "\n",
            "[1000 rows x 9 columns]\n"
          ]
        }
      ]
    },
    {
      "cell_type": "code",
      "source": [
        "data.describe()"
      ],
      "metadata": {
        "colab": {
          "base_uri": "https://localhost:8080/",
          "height": 364
        },
        "id": "J577DTeuHUxi",
        "outputId": "54e15291-c72c-4789-eb35-b2ee4e7a0273"
      },
      "execution_count": null,
      "outputs": [
        {
          "output_type": "execute_result",
          "data": {
            "text/plain": [
              "       Pregnancies      Glucose  BloodPressure  SkinThickness      Insulin  \\\n",
              "count  1000.000000  1000.000000    1000.000000    1000.000000  1000.000000   \n",
              "mean      4.146000   126.171000      69.391000      20.597000    83.179000   \n",
              "std       3.474875    32.331116      19.598373      16.165764   118.235767   \n",
              "min       0.000000     0.000000       0.000000       0.000000     0.000000   \n",
              "25%       1.000000   103.000000      64.000000       0.000000     0.000000   \n",
              "50%       3.000000   122.000000      72.000000      23.500000    33.500000   \n",
              "75%       6.250000   148.000000      80.000000      33.000000   135.000000   \n",
              "max      17.000000   199.000000     122.000000      99.000000   846.000000   \n",
              "\n",
              "               BMI  DiabetesPedigreeFunction          Age     Outcome  \n",
              "count  1000.000000               1000.000000  1000.000000  1000.00000  \n",
              "mean     32.539286                  0.481056    34.339000     0.50000  \n",
              "std       7.569583                  0.327038    11.783672     0.50025  \n",
              "min       0.000000                  0.078000    21.000000     0.00000  \n",
              "25%      28.000000                  0.254000    25.000000     0.00000  \n",
              "50%      32.751899                  0.389000    31.000000     0.50000  \n",
              "75%      36.800000                  0.643309    42.000000     1.00000  \n",
              "max      67.100000                  2.420000    81.000000     1.00000  "
            ],
            "text/html": [
              "\n",
              "\n",
              "  <div id=\"df-96c1dc0e-0b43-40f4-b28a-8d73bf3bfa94\">\n",
              "    <div class=\"colab-df-container\">\n",
              "      <div>\n",
              "<style scoped>\n",
              "    .dataframe tbody tr th:only-of-type {\n",
              "        vertical-align: middle;\n",
              "    }\n",
              "\n",
              "    .dataframe tbody tr th {\n",
              "        vertical-align: top;\n",
              "    }\n",
              "\n",
              "    .dataframe thead th {\n",
              "        text-align: right;\n",
              "    }\n",
              "</style>\n",
              "<table border=\"1\" class=\"dataframe\">\n",
              "  <thead>\n",
              "    <tr style=\"text-align: right;\">\n",
              "      <th></th>\n",
              "      <th>Pregnancies</th>\n",
              "      <th>Glucose</th>\n",
              "      <th>BloodPressure</th>\n",
              "      <th>SkinThickness</th>\n",
              "      <th>Insulin</th>\n",
              "      <th>BMI</th>\n",
              "      <th>DiabetesPedigreeFunction</th>\n",
              "      <th>Age</th>\n",
              "      <th>Outcome</th>\n",
              "    </tr>\n",
              "  </thead>\n",
              "  <tbody>\n",
              "    <tr>\n",
              "      <th>count</th>\n",
              "      <td>1000.000000</td>\n",
              "      <td>1000.000000</td>\n",
              "      <td>1000.000000</td>\n",
              "      <td>1000.000000</td>\n",
              "      <td>1000.000000</td>\n",
              "      <td>1000.000000</td>\n",
              "      <td>1000.000000</td>\n",
              "      <td>1000.000000</td>\n",
              "      <td>1000.00000</td>\n",
              "    </tr>\n",
              "    <tr>\n",
              "      <th>mean</th>\n",
              "      <td>4.146000</td>\n",
              "      <td>126.171000</td>\n",
              "      <td>69.391000</td>\n",
              "      <td>20.597000</td>\n",
              "      <td>83.179000</td>\n",
              "      <td>32.539286</td>\n",
              "      <td>0.481056</td>\n",
              "      <td>34.339000</td>\n",
              "      <td>0.50000</td>\n",
              "    </tr>\n",
              "    <tr>\n",
              "      <th>std</th>\n",
              "      <td>3.474875</td>\n",
              "      <td>32.331116</td>\n",
              "      <td>19.598373</td>\n",
              "      <td>16.165764</td>\n",
              "      <td>118.235767</td>\n",
              "      <td>7.569583</td>\n",
              "      <td>0.327038</td>\n",
              "      <td>11.783672</td>\n",
              "      <td>0.50025</td>\n",
              "    </tr>\n",
              "    <tr>\n",
              "      <th>min</th>\n",
              "      <td>0.000000</td>\n",
              "      <td>0.000000</td>\n",
              "      <td>0.000000</td>\n",
              "      <td>0.000000</td>\n",
              "      <td>0.000000</td>\n",
              "      <td>0.000000</td>\n",
              "      <td>0.078000</td>\n",
              "      <td>21.000000</td>\n",
              "      <td>0.00000</td>\n",
              "    </tr>\n",
              "    <tr>\n",
              "      <th>25%</th>\n",
              "      <td>1.000000</td>\n",
              "      <td>103.000000</td>\n",
              "      <td>64.000000</td>\n",
              "      <td>0.000000</td>\n",
              "      <td>0.000000</td>\n",
              "      <td>28.000000</td>\n",
              "      <td>0.254000</td>\n",
              "      <td>25.000000</td>\n",
              "      <td>0.00000</td>\n",
              "    </tr>\n",
              "    <tr>\n",
              "      <th>50%</th>\n",
              "      <td>3.000000</td>\n",
              "      <td>122.000000</td>\n",
              "      <td>72.000000</td>\n",
              "      <td>23.500000</td>\n",
              "      <td>33.500000</td>\n",
              "      <td>32.751899</td>\n",
              "      <td>0.389000</td>\n",
              "      <td>31.000000</td>\n",
              "      <td>0.50000</td>\n",
              "    </tr>\n",
              "    <tr>\n",
              "      <th>75%</th>\n",
              "      <td>6.250000</td>\n",
              "      <td>148.000000</td>\n",
              "      <td>80.000000</td>\n",
              "      <td>33.000000</td>\n",
              "      <td>135.000000</td>\n",
              "      <td>36.800000</td>\n",
              "      <td>0.643309</td>\n",
              "      <td>42.000000</td>\n",
              "      <td>1.00000</td>\n",
              "    </tr>\n",
              "    <tr>\n",
              "      <th>max</th>\n",
              "      <td>17.000000</td>\n",
              "      <td>199.000000</td>\n",
              "      <td>122.000000</td>\n",
              "      <td>99.000000</td>\n",
              "      <td>846.000000</td>\n",
              "      <td>67.100000</td>\n",
              "      <td>2.420000</td>\n",
              "      <td>81.000000</td>\n",
              "      <td>1.00000</td>\n",
              "    </tr>\n",
              "  </tbody>\n",
              "</table>\n",
              "</div>\n",
              "      <button class=\"colab-df-convert\" onclick=\"convertToInteractive('df-96c1dc0e-0b43-40f4-b28a-8d73bf3bfa94')\"\n",
              "              title=\"Convert this dataframe to an interactive table.\"\n",
              "              style=\"display:none;\">\n",
              "\n",
              "  <svg xmlns=\"http://www.w3.org/2000/svg\" height=\"24px\"viewBox=\"0 0 24 24\"\n",
              "       width=\"24px\">\n",
              "    <path d=\"M0 0h24v24H0V0z\" fill=\"none\"/>\n",
              "    <path d=\"M18.56 5.44l.94 2.06.94-2.06 2.06-.94-2.06-.94-.94-2.06-.94 2.06-2.06.94zm-11 1L8.5 8.5l.94-2.06 2.06-.94-2.06-.94L8.5 2.5l-.94 2.06-2.06.94zm10 10l.94 2.06.94-2.06 2.06-.94-2.06-.94-.94-2.06-.94 2.06-2.06.94z\"/><path d=\"M17.41 7.96l-1.37-1.37c-.4-.4-.92-.59-1.43-.59-.52 0-1.04.2-1.43.59L10.3 9.45l-7.72 7.72c-.78.78-.78 2.05 0 2.83L4 21.41c.39.39.9.59 1.41.59.51 0 1.02-.2 1.41-.59l7.78-7.78 2.81-2.81c.8-.78.8-2.07 0-2.86zM5.41 20L4 18.59l7.72-7.72 1.47 1.35L5.41 20z\"/>\n",
              "  </svg>\n",
              "      </button>\n",
              "\n",
              "\n",
              "\n",
              "    <div id=\"df-d358c45b-5421-44b9-b831-4360cfddd366\">\n",
              "      <button class=\"colab-df-quickchart\" onclick=\"quickchart('df-d358c45b-5421-44b9-b831-4360cfddd366')\"\n",
              "              title=\"Suggest charts.\"\n",
              "              style=\"display:none;\">\n",
              "\n",
              "<svg xmlns=\"http://www.w3.org/2000/svg\" height=\"24px\"viewBox=\"0 0 24 24\"\n",
              "     width=\"24px\">\n",
              "    <g>\n",
              "        <path d=\"M19 3H5c-1.1 0-2 .9-2 2v14c0 1.1.9 2 2 2h14c1.1 0 2-.9 2-2V5c0-1.1-.9-2-2-2zM9 17H7v-7h2v7zm4 0h-2V7h2v10zm4 0h-2v-4h2v4z\"/>\n",
              "    </g>\n",
              "</svg>\n",
              "      </button>\n",
              "    </div>\n",
              "\n",
              "<style>\n",
              "  .colab-df-quickchart {\n",
              "    background-color: #E8F0FE;\n",
              "    border: none;\n",
              "    border-radius: 50%;\n",
              "    cursor: pointer;\n",
              "    display: none;\n",
              "    fill: #1967D2;\n",
              "    height: 32px;\n",
              "    padding: 0 0 0 0;\n",
              "    width: 32px;\n",
              "  }\n",
              "\n",
              "  .colab-df-quickchart:hover {\n",
              "    background-color: #E2EBFA;\n",
              "    box-shadow: 0px 1px 2px rgba(60, 64, 67, 0.3), 0px 1px 3px 1px rgba(60, 64, 67, 0.15);\n",
              "    fill: #174EA6;\n",
              "  }\n",
              "\n",
              "  [theme=dark] .colab-df-quickchart {\n",
              "    background-color: #3B4455;\n",
              "    fill: #D2E3FC;\n",
              "  }\n",
              "\n",
              "  [theme=dark] .colab-df-quickchart:hover {\n",
              "    background-color: #434B5C;\n",
              "    box-shadow: 0px 1px 3px 1px rgba(0, 0, 0, 0.15);\n",
              "    filter: drop-shadow(0px 1px 2px rgba(0, 0, 0, 0.3));\n",
              "    fill: #FFFFFF;\n",
              "  }\n",
              "</style>\n",
              "\n",
              "    <script>\n",
              "      async function quickchart(key) {\n",
              "        const containerElement = document.querySelector('#' + key);\n",
              "        const charts = await google.colab.kernel.invokeFunction(\n",
              "            'suggestCharts', [key], {});\n",
              "      }\n",
              "    </script>\n",
              "\n",
              "      <script>\n",
              "\n",
              "function displayQuickchartButton(domScope) {\n",
              "  let quickchartButtonEl =\n",
              "    domScope.querySelector('#df-d358c45b-5421-44b9-b831-4360cfddd366 button.colab-df-quickchart');\n",
              "  quickchartButtonEl.style.display =\n",
              "    google.colab.kernel.accessAllowed ? 'block' : 'none';\n",
              "}\n",
              "\n",
              "        displayQuickchartButton(document);\n",
              "      </script>\n",
              "      <style>\n",
              "    .colab-df-container {\n",
              "      display:flex;\n",
              "      flex-wrap:wrap;\n",
              "      gap: 12px;\n",
              "    }\n",
              "\n",
              "    .colab-df-convert {\n",
              "      background-color: #E8F0FE;\n",
              "      border: none;\n",
              "      border-radius: 50%;\n",
              "      cursor: pointer;\n",
              "      display: none;\n",
              "      fill: #1967D2;\n",
              "      height: 32px;\n",
              "      padding: 0 0 0 0;\n",
              "      width: 32px;\n",
              "    }\n",
              "\n",
              "    .colab-df-convert:hover {\n",
              "      background-color: #E2EBFA;\n",
              "      box-shadow: 0px 1px 2px rgba(60, 64, 67, 0.3), 0px 1px 3px 1px rgba(60, 64, 67, 0.15);\n",
              "      fill: #174EA6;\n",
              "    }\n",
              "\n",
              "    [theme=dark] .colab-df-convert {\n",
              "      background-color: #3B4455;\n",
              "      fill: #D2E3FC;\n",
              "    }\n",
              "\n",
              "    [theme=dark] .colab-df-convert:hover {\n",
              "      background-color: #434B5C;\n",
              "      box-shadow: 0px 1px 3px 1px rgba(0, 0, 0, 0.15);\n",
              "      filter: drop-shadow(0px 1px 2px rgba(0, 0, 0, 0.3));\n",
              "      fill: #FFFFFF;\n",
              "    }\n",
              "  </style>\n",
              "\n",
              "      <script>\n",
              "        const buttonEl =\n",
              "          document.querySelector('#df-96c1dc0e-0b43-40f4-b28a-8d73bf3bfa94 button.colab-df-convert');\n",
              "        buttonEl.style.display =\n",
              "          google.colab.kernel.accessAllowed ? 'block' : 'none';\n",
              "\n",
              "        async function convertToInteractive(key) {\n",
              "          const element = document.querySelector('#df-96c1dc0e-0b43-40f4-b28a-8d73bf3bfa94');\n",
              "          const dataTable =\n",
              "            await google.colab.kernel.invokeFunction('convertToInteractive',\n",
              "                                                     [key], {});\n",
              "          if (!dataTable) return;\n",
              "\n",
              "          const docLinkHtml = 'Like what you see? Visit the ' +\n",
              "            '<a target=\"_blank\" href=https://colab.research.google.com/notebooks/data_table.ipynb>data table notebook</a>'\n",
              "            + ' to learn more about interactive tables.';\n",
              "          element.innerHTML = '';\n",
              "          dataTable['output_type'] = 'display_data';\n",
              "          await google.colab.output.renderOutput(dataTable, element);\n",
              "          const docLink = document.createElement('div');\n",
              "          docLink.innerHTML = docLinkHtml;\n",
              "          element.appendChild(docLink);\n",
              "        }\n",
              "      </script>\n",
              "    </div>\n",
              "  </div>\n"
            ]
          },
          "metadata": {},
          "execution_count": 9
        }
      ]
    },
    {
      "cell_type": "markdown",
      "source": [
        "The following code tests the correlations between variables. The Glucose is strongly correlated with Outcome and other variables have weak correlations. But, we have taken all of the variables to take into account all health parameters in order to develop a model"
      ],
      "metadata": {
        "id": "TkMRDnN83YQ0"
      }
    },
    {
      "cell_type": "code",
      "source": [
        "corr = data.corr()\n",
        "mask = np.triu(np.ones_like(corr, dtype=np.bool))\n",
        "f, ax = plt.subplots(figsize=(20, 20))\n",
        "cmap = sns.diverging_palette(240, 10, as_cmap=True)\n",
        "sns.heatmap(corr, mask=mask, cmap=cmap, vmax=None, center=0,square=True, annot=True, linewidths=.5, cbar_kws={\"shrink\": .9})"
      ],
      "metadata": {
        "colab": {
          "base_uri": "https://localhost:8080/",
          "height": 1000
        },
        "id": "6SB1FIvjHXMQ",
        "outputId": "4f4d6751-020a-42ef-e6ab-1adb3ed39600"
      },
      "execution_count": null,
      "outputs": [
        {
          "output_type": "stream",
          "name": "stderr",
          "text": [
            "<ipython-input-10-5211eaab9020>:2: DeprecationWarning: `np.bool` is a deprecated alias for the builtin `bool`. To silence this warning, use `bool` by itself. Doing this will not modify any behavior and is safe. If you specifically wanted the numpy scalar type, use `np.bool_` here.\n",
            "Deprecated in NumPy 1.20; for more details and guidance: https://numpy.org/devdocs/release/1.20.0-notes.html#deprecations\n",
            "  mask = np.triu(np.ones_like(corr, dtype=np.bool))\n"
          ]
        },
        {
          "output_type": "execute_result",
          "data": {
            "text/plain": [
              "<Axes: >"
            ]
          },
          "metadata": {},
          "execution_count": 10
        },
        {
          "output_type": "display_data",
          "data": {
            "text/plain": [
              "<Figure size 2000x2000 with 2 Axes>"
            ],
            "image/png": "[encoded data removed]"
          },
          "metadata": {}
        }
      ]
    },
    {
      "cell_type": "code",
      "source": [
        "X = data.drop(\"Outcome\", axis = \"columns\")"
      ],
      "metadata": {
        "id": "4brYrwUrIGF7"
      },
      "execution_count": null,
      "outputs": []
    },
    {
      "cell_type": "code",
      "source": [
        "X.head()"
      ],
      "metadata": {
        "colab": {
          "base_uri": "https://localhost:8080/",
          "height": 206
        },
        "id": "xEKQal_VKW1k",
        "outputId": "2fa6eec1-bc5f-47d9-cd45-60e4386633bc"
      },
      "execution_count": null,
      "outputs": [
        {
          "output_type": "execute_result",
          "data": {
            "text/plain": [
              "   Pregnancies  Glucose  BloodPressure  SkinThickness  Insulin   BMI  \\\n",
              "0            6      148             72             35        0  33.6   \n",
              "1            1       85             66             29        0  26.6   \n",
              "2            8      183             64              0        0  23.3   \n",
              "3            1       89             66             23       94  28.1   \n",
              "4            0      137             40             35      168  43.1   \n",
              "\n",
              "   DiabetesPedigreeFunction  Age  \n",
              "0                     0.627   50  \n",
              "1                     0.351   31  \n",
              "2                     0.672   32  \n",
              "3                     0.167   21  \n",
              "4                     2.288   33  "
            ],
            "text/html": [
              "\n",
              "\n",
              "  <div id=\"df-5615e936-6282-4b5f-aa0a-c5bf0b343459\">\n",
              "    <div class=\"colab-df-container\">\n",
              "      <div>\n",
              "<style scoped>\n",
              "    .dataframe tbody tr th:only-of-type {\n",
              "        vertical-align: middle;\n",
              "    }\n",
              "\n",
              "    .dataframe tbody tr th {\n",
              "        vertical-align: top;\n",
              "    }\n",
              "\n",
              "    .dataframe thead th {\n",
              "        text-align: right;\n",
              "    }\n",
              "</style>\n",
              "<table border=\"1\" class=\"dataframe\">\n",
              "  <thead>\n",
              "    <tr style=\"text-align: right;\">\n",
              "      <th></th>\n",
              "      <th>Pregnancies</th>\n",
              "      <th>Glucose</th>\n",
              "      <th>BloodPressure</th>\n",
              "      <th>SkinThickness</th>\n",
              "      <th>Insulin</th>\n",
              "      <th>BMI</th>\n",
              "      <th>DiabetesPedigreeFunction</th>\n",
              "      <th>Age</th>\n",
              "    </tr>\n",
              "  </thead>\n",
              "  <tbody>\n",
              "    <tr>\n",
              "      <th>0</th>\n",
              "      <td>6</td>\n",
              "      <td>148</td>\n",
              "      <td>72</td>\n",
              "      <td>35</td>\n",
              "      <td>0</td>\n",
              "      <td>33.6</td>\n",
              "      <td>0.627</td>\n",
              "      <td>50</td>\n",
              "    </tr>\n",
              "    <tr>\n",
              "      <th>1</th>\n",
              "      <td>1</td>\n",
              "      <td>85</td>\n",
              "      <td>66</td>\n",
              "      <td>29</td>\n",
              "      <td>0</td>\n",
              "      <td>26.6</td>\n",
              "      <td>0.351</td>\n",
              "      <td>31</td>\n",
              "    </tr>\n",
              "    <tr>\n",
              "      <th>2</th>\n",
              "      <td>8</td>\n",
              "      <td>183</td>\n",
              "      <td>64</td>\n",
              "      <td>0</td>\n",
              "      <td>0</td>\n",
              "      <td>23.3</td>\n",
              "      <td>0.672</td>\n",
              "      <td>32</td>\n",
              "    </tr>\n",
              "    <tr>\n",
              "      <th>3</th>\n",
              "      <td>1</td>\n",
              "      <td>89</td>\n",
              "      <td>66</td>\n",
              "      <td>23</td>\n",
              "      <td>94</td>\n",
              "      <td>28.1</td>\n",
              "      <td>0.167</td>\n",
              "      <td>21</td>\n",
              "    </tr>\n",
              "    <tr>\n",
              "      <th>4</th>\n",
              "      <td>0</td>\n",
              "      <td>137</td>\n",
              "      <td>40</td>\n",
              "      <td>35</td>\n",
              "      <td>168</td>\n",
              "      <td>43.1</td>\n",
              "      <td>2.288</td>\n",
              "      <td>33</td>\n",
              "    </tr>\n",
              "  </tbody>\n",
              "</table>\n",
              "</div>\n",
              "      <button class=\"colab-df-convert\" onclick=\"convertToInteractive('df-5615e936-6282-4b5f-aa0a-c5bf0b343459')\"\n",
              "              title=\"Convert this dataframe to an interactive table.\"\n",
              "              style=\"display:none;\">\n",
              "\n",
              "  <svg xmlns=\"http://www.w3.org/2000/svg\" height=\"24px\"viewBox=\"0 0 24 24\"\n",
              "       width=\"24px\">\n",
              "    <path d=\"M0 0h24v24H0V0z\" fill=\"none\"/>\n",
              "    <path d=\"M18.56 5.44l.94 2.06.94-2.06 2.06-.94-2.06-.94-.94-2.06-.94 2.06-2.06.94zm-11 1L8.5 8.5l.94-2.06 2.06-.94-2.06-.94L8.5 2.5l-.94 2.06-2.06.94zm10 10l.94 2.06.94-2.06 2.06-.94-2.06-.94-.94-2.06-.94 2.06-2.06.94z\"/><path d=\"M17.41 7.96l-1.37-1.37c-.4-.4-.92-.59-1.43-.59-.52 0-1.04.2-1.43.59L10.3 9.45l-7.72 7.72c-.78.78-.78 2.05 0 2.83L4 21.41c.39.39.9.59 1.41.59.51 0 1.02-.2 1.41-.59l7.78-7.78 2.81-2.81c.8-.78.8-2.07 0-2.86zM5.41 20L4 18.59l7.72-7.72 1.47 1.35L5.41 20z\"/>\n",
              "  </svg>\n",
              "      </button>\n",
              "\n",
              "\n",
              "\n",
              "    <div id=\"df-9f9a7d70-bbe7-4851-85c5-1d908dbf38ed\">\n",
              "      <button class=\"colab-df-quickchart\" onclick=\"quickchart('df-9f9a7d70-bbe7-4851-85c5-1d908dbf38ed')\"\n",
              "              title=\"Suggest charts.\"\n",
              "              style=\"display:none;\">\n",
              "\n",
              "<svg xmlns=\"http://www.w3.org/2000/svg\" height=\"24px\"viewBox=\"0 0 24 24\"\n",
              "     width=\"24px\">\n",
              "    <g>\n",
              "        <path d=\"M19 3H5c-1.1 0-2 .9-2 2v14c0 1.1.9 2 2 2h14c1.1 0 2-.9 2-2V5c0-1.1-.9-2-2-2zM9 17H7v-7h2v7zm4 0h-2V7h2v10zm4 0h-2v-4h2v4z\"/>\n",
              "    </g>\n",
              "</svg>\n",
              "      </button>\n",
              "    </div>\n",
              "\n",
              "<style>\n",
              "  .colab-df-quickchart {\n",
              "    background-color: #E8F0FE;\n",
              "    border: none;\n",
              "    border-radius: 50%;\n",
              "    cursor: pointer;\n",
              "    display: none;\n",
              "    fill: #1967D2;\n",
              "    height: 32px;\n",
              "    padding: 0 0 0 0;\n",
              "    width: 32px;\n",
              "  }\n",
              "\n",
              "  .colab-df-quickchart:hover {\n",
              "    background-color: #E2EBFA;\n",
              "    box-shadow: 0px 1px 2px rgba(60, 64, 67, 0.3), 0px 1px 3px 1px rgba(60, 64, 67, 0.15);\n",
              "    fill: #174EA6;\n",
              "  }\n",
              "\n",
              "  [theme=dark] .colab-df-quickchart {\n",
              "    background-color: #3B4455;\n",
              "    fill: #D2E3FC;\n",
              "  }\n",
              "\n",
              "  [theme=dark] .colab-df-quickchart:hover {\n",
              "    background-color: #434B5C;\n",
              "    box-shadow: 0px 1px 3px 1px rgba(0, 0, 0, 0.15);\n",
              "    filter: drop-shadow(0px 1px 2px rgba(0, 0, 0, 0.3));\n",
              "    fill: #FFFFFF;\n",
              "  }\n",
              "</style>\n",
              "\n",
              "    <script>\n",
              "      async function quickchart(key) {\n",
              "        const containerElement = document.querySelector('#' + key);\n",
              "        const charts = await google.colab.kernel.invokeFunction(\n",
              "            'suggestCharts', [key], {});\n",
              "      }\n",
              "    </script>\n",
              "\n",
              "      <script>\n",
              "\n",
              "function displayQuickchartButton(domScope) {\n",
              "  let quickchartButtonEl =\n",
              "    domScope.querySelector('#df-9f9a7d70-bbe7-4851-85c5-1d908dbf38ed button.colab-df-quickchart');\n",
              "  quickchartButtonEl.style.display =\n",
              "    google.colab.kernel.accessAllowed ? 'block' : 'none';\n",
              "}\n",
              "\n",
              "        displayQuickchartButton(document);\n",
              "      </script>\n",
              "      <style>\n",
              "    .colab-df-container {\n",
              "      display:flex;\n",
              "      flex-wrap:wrap;\n",
              "      gap: 12px;\n",
              "    }\n",
              "\n",
              "    .colab-df-convert {\n",
              "      background-color: #E8F0FE;\n",
              "      border: none;\n",
              "      border-radius: 50%;\n",
              "      cursor: pointer;\n",
              "      display: none;\n",
              "      fill: #1967D2;\n",
              "      height: 32px;\n",
              "      padding: 0 0 0 0;\n",
              "      width: 32px;\n",
              "    }\n",
              "\n",
              "    .colab-df-convert:hover {\n",
              "      background-color: #E2EBFA;\n",
              "      box-shadow: 0px 1px 2px rgba(60, 64, 67, 0.3), 0px 1px 3px 1px rgba(60, 64, 67, 0.15);\n",
              "      fill: #174EA6;\n",
              "    }\n",
              "\n",
              "    [theme=dark] .colab-df-convert {\n",
              "      background-color: #3B4455;\n",
              "      fill: #D2E3FC;\n",
              "    }\n",
              "\n",
              "    [theme=dark] .colab-df-convert:hover {\n",
              "      background-color: #434B5C;\n",
              "      box-shadow: 0px 1px 3px 1px rgba(0, 0, 0, 0.15);\n",
              "      filter: drop-shadow(0px 1px 2px rgba(0, 0, 0, 0.3));\n",
              "      fill: #FFFFFF;\n",
              "    }\n",
              "  </style>\n",
              "\n",
              "      <script>\n",
              "        const buttonEl =\n",
              "          document.querySelector('#df-5615e936-6282-4b5f-aa0a-c5bf0b343459 button.colab-df-convert');\n",
              "        buttonEl.style.display =\n",
              "          google.colab.kernel.accessAllowed ? 'block' : 'none';\n",
              "\n",
              "        async function convertToInteractive(key) {\n",
              "          const element = document.querySelector('#df-5615e936-6282-4b5f-aa0a-c5bf0b343459');\n",
              "          const dataTable =\n",
              "            await google.colab.kernel.invokeFunction('convertToInteractive',\n",
              "                                                     [key], {});\n",
              "          if (!dataTable) return;\n",
              "\n",
              "          const docLinkHtml = 'Like what you see? Visit the ' +\n",
              "            '<a target=\"_blank\" href=https://colab.research.google.com/notebooks/data_table.ipynb>data table notebook</a>'\n",
              "            + ' to learn more about interactive tables.';\n",
              "          element.innerHTML = '';\n",
              "          dataTable['output_type'] = 'display_data';\n",
              "          await google.colab.output.renderOutput(dataTable, element);\n",
              "          const docLink = document.createElement('div');\n",
              "          docLink.innerHTML = docLinkHtml;\n",
              "          element.appendChild(docLink);\n",
              "        }\n",
              "      </script>\n",
              "    </div>\n",
              "  </div>\n"
            ]
          },
          "metadata": {},
          "execution_count": 12
        }
      ]
    },
    {
      "cell_type": "code",
      "source": [
        "y = data[[\"Outcome\"]]"
      ],
      "metadata": {
        "id": "Vw6XXar1KXzS"
      },
      "execution_count": null,
      "outputs": []
    },
    {
      "cell_type": "code",
      "source": [
        "y.head()"
      ],
      "metadata": {
        "colab": {
          "base_uri": "https://localhost:8080/",
          "height": 206
        },
        "id": "rZW8_bSoKcsV",
        "outputId": "c9638638-30ff-49a5-8e24-4bae6df37b0f"
      },
      "execution_count": null,
      "outputs": [
        {
          "output_type": "execute_result",
          "data": {
            "text/plain": [
              "   Outcome\n",
              "0        1\n",
              "1        0\n",
              "2        1\n",
              "3        0\n",
              "4        1"
            ],
            "text/html": [
              "\n",
              "\n",
              "  <div id=\"df-02a81d7d-5f31-4429-a216-280a796f442d\">\n",
              "    <div class=\"colab-df-container\">\n",
              "      <div>\n",
              "<style scoped>\n",
              "    .dataframe tbody tr th:only-of-type {\n",
              "        vertical-align: middle;\n",
              "    }\n",
              "\n",
              "    .dataframe tbody tr th {\n",
              "        vertical-align: top;\n",
              "    }\n",
              "\n",
              "    .dataframe thead th {\n",
              "        text-align: right;\n",
              "    }\n",
              "</style>\n",
              "<table border=\"1\" class=\"dataframe\">\n",
              "  <thead>\n",
              "    <tr style=\"text-align: right;\">\n",
              "      <th></th>\n",
              "      <th>Outcome</th>\n",
              "    </tr>\n",
              "  </thead>\n",
              "  <tbody>\n",
              "    <tr>\n",
              "      <th>0</th>\n",
              "      <td>1</td>\n",
              "    </tr>\n",
              "    <tr>\n",
              "      <th>1</th>\n",
              "      <td>0</td>\n",
              "    </tr>\n",
              "    <tr>\n",
              "      <th>2</th>\n",
              "      <td>1</td>\n",
              "    </tr>\n",
              "    <tr>\n",
              "      <th>3</th>\n",
              "      <td>0</td>\n",
              "    </tr>\n",
              "    <tr>\n",
              "      <th>4</th>\n",
              "      <td>1</td>\n",
              "    </tr>\n",
              "  </tbody>\n",
              "</table>\n",
              "</div>\n",
              "      <button class=\"colab-df-convert\" onclick=\"convertToInteractive('df-02a81d7d-5f31-4429-a216-280a796f442d')\"\n",
              "              title=\"Convert this dataframe to an interactive table.\"\n",
              "              style=\"display:none;\">\n",
              "\n",
              "  <svg xmlns=\"http://www.w3.org/2000/svg\" height=\"24px\"viewBox=\"0 0 24 24\"\n",
              "       width=\"24px\">\n",
              "    <path d=\"M0 0h24v24H0V0z\" fill=\"none\"/>\n",
              "    <path d=\"M18.56 5.44l.94 2.06.94-2.06 2.06-.94-2.06-.94-.94-2.06-.94 2.06-2.06.94zm-11 1L8.5 8.5l.94-2.06 2.06-.94-2.06-.94L8.5 2.5l-.94 2.06-2.06.94zm10 10l.94 2.06.94-2.06 2.06-.94-2.06-.94-.94-2.06-.94 2.06-2.06.94z\"/><path d=\"M17.41 7.96l-1.37-1.37c-.4-.4-.92-.59-1.43-.59-.52 0-1.04.2-1.43.59L10.3 9.45l-7.72 7.72c-.78.78-.78 2.05 0 2.83L4 21.41c.39.39.9.59 1.41.59.51 0 1.02-.2 1.41-.59l7.78-7.78 2.81-2.81c.8-.78.8-2.07 0-2.86zM5.41 20L4 18.59l7.72-7.72 1.47 1.35L5.41 20z\"/>\n",
              "  </svg>\n",
              "      </button>\n",
              "\n",
              "\n",
              "\n",
              "    <div id=\"df-781318a9-b2ad-4c4d-896a-4e5c892e348f\">\n",
              "      <button class=\"colab-df-quickchart\" onclick=\"quickchart('df-781318a9-b2ad-4c4d-896a-4e5c892e348f')\"\n",
              "              title=\"Suggest charts.\"\n",
              "              style=\"display:none;\">\n",
              "\n",
              "<svg xmlns=\"http://www.w3.org/2000/svg\" height=\"24px\"viewBox=\"0 0 24 24\"\n",
              "     width=\"24px\">\n",
              "    <g>\n",
              "        <path d=\"M19 3H5c-1.1 0-2 .9-2 2v14c0 1.1.9 2 2 2h14c1.1 0 2-.9 2-2V5c0-1.1-.9-2-2-2zM9 17H7v-7h2v7zm4 0h-2V7h2v10zm4 0h-2v-4h2v4z\"/>\n",
              "    </g>\n",
              "</svg>\n",
              "      </button>\n",
              "    </div>\n",
              "\n",
              "<style>\n",
              "  .colab-df-quickchart {\n",
              "    background-color: #E8F0FE;\n",
              "    border: none;\n",
              "    border-radius: 50%;\n",
              "    cursor: pointer;\n",
              "    display: none;\n",
              "    fill: #1967D2;\n",
              "    height: 32px;\n",
              "    padding: 0 0 0 0;\n",
              "    width: 32px;\n",
              "  }\n",
              "\n",
              "  .colab-df-quickchart:hover {\n",
              "    background-color: #E2EBFA;\n",
              "    box-shadow: 0px 1px 2px rgba(60, 64, 67, 0.3), 0px 1px 3px 1px rgba(60, 64, 67, 0.15);\n",
              "    fill: #174EA6;\n",
              "  }\n",
              "\n",
              "  [theme=dark] .colab-df-quickchart {\n",
              "    background-color: #3B4455;\n",
              "    fill: #D2E3FC;\n",
              "  }\n",
              "\n",
              "  [theme=dark] .colab-df-quickchart:hover {\n",
              "    background-color: #434B5C;\n",
              "    box-shadow: 0px 1px 3px 1px rgba(0, 0, 0, 0.15);\n",
              "    filter: drop-shadow(0px 1px 2px rgba(0, 0, 0, 0.3));\n",
              "    fill: #FFFFFF;\n",
              "  }\n",
              "</style>\n",
              "\n",
              "    <script>\n",
              "      async function quickchart(key) {\n",
              "        const containerElement = document.querySelector('#' + key);\n",
              "        const charts = await google.colab.kernel.invokeFunction(\n",
              "            'suggestCharts', [key], {});\n",
              "      }\n",
              "    </script>\n",
              "\n",
              "      <script>\n",
              "\n",
              "function displayQuickchartButton(domScope) {\n",
              "  let quickchartButtonEl =\n",
              "    domScope.querySelector('#df-781318a9-b2ad-4c4d-896a-4e5c892e348f button.colab-df-quickchart');\n",
              "  quickchartButtonEl.style.display =\n",
              "    google.colab.kernel.accessAllowed ? 'block' : 'none';\n",
              "}\n",
              "\n",
              "        displayQuickchartButton(document);\n",
              "      </script>\n",
              "      <style>\n",
              "    .colab-df-container {\n",
              "      display:flex;\n",
              "      flex-wrap:wrap;\n",
              "      gap: 12px;\n",
              "    }\n",
              "\n",
              "    .colab-df-convert {\n",
              "      background-color: #E8F0FE;\n",
              "      border: none;\n",
              "      border-radius: 50%;\n",
              "      cursor: pointer;\n",
              "      display: none;\n",
              "      fill: #1967D2;\n",
              "      height: 32px;\n",
              "      padding: 0 0 0 0;\n",
              "      width: 32px;\n",
              "    }\n",
              "\n",
              "    .colab-df-convert:hover {\n",
              "      background-color: #E2EBFA;\n",
              "      box-shadow: 0px 1px 2px rgba(60, 64, 67, 0.3), 0px 1px 3px 1px rgba(60, 64, 67, 0.15);\n",
              "      fill: #174EA6;\n",
              "    }\n",
              "\n",
              "    [theme=dark] .colab-df-convert {\n",
              "      background-color: #3B4455;\n",
              "      fill: #D2E3FC;\n",
              "    }\n",
              "\n",
              "    [theme=dark] .colab-df-convert:hover {\n",
              "      background-color: #434B5C;\n",
              "      box-shadow: 0px 1px 3px 1px rgba(0, 0, 0, 0.15);\n",
              "      filter: drop-shadow(0px 1px 2px rgba(0, 0, 0, 0.3));\n",
              "      fill: #FFFFFF;\n",
              "    }\n",
              "  </style>\n",
              "\n",
              "      <script>\n",
              "        const buttonEl =\n",
              "          document.querySelector('#df-02a81d7d-5f31-4429-a216-280a796f442d button.colab-df-convert');\n",
              "        buttonEl.style.display =\n",
              "          google.colab.kernel.accessAllowed ? 'block' : 'none';\n",
              "\n",
              "        async function convertToInteractive(key) {\n",
              "          const element = document.querySelector('#df-02a81d7d-5f31-4429-a216-280a796f442d');\n",
              "          const dataTable =\n",
              "            await google.colab.kernel.invokeFunction('convertToInteractive',\n",
              "                                                     [key], {});\n",
              "          if (!dataTable) return;\n",
              "\n",
              "          const docLinkHtml = 'Like what you see? Visit the ' +\n",
              "            '<a target=\"_blank\" href=https://colab.research.google.com/notebooks/data_table.ipynb>data table notebook</a>'\n",
              "            + ' to learn more about interactive tables.';\n",
              "          element.innerHTML = '';\n",
              "          dataTable['output_type'] = 'display_data';\n",
              "          await google.colab.output.renderOutput(dataTable, element);\n",
              "          const docLink = document.createElement('div');\n",
              "          docLink.innerHTML = docLinkHtml;\n",
              "          element.appendChild(docLink);\n",
              "        }\n",
              "      </script>\n",
              "    </div>\n",
              "  </div>\n"
            ]
          },
          "metadata": {},
          "execution_count": 14
        }
      ]
    },
    {
      "cell_type": "markdown",
      "source": [
        "The code splits data into test and train dataset to be used for GLM and logistic regression."
      ],
      "metadata": {
        "id": "WqvRybWO31CL"
      }
    },
    {
      "cell_type": "code",
      "source": [
        "X_train, X_test, y_train, y_test = train_test_split(X, y, test_size=0.2, random_state = 42)"
      ],
      "metadata": {
        "id": "lbaCK7R7KdtD"
      },
      "execution_count": null,
      "outputs": []
    },
    {
      "cell_type": "code",
      "source": [
        "train_data = pd.concat([X_train,y_train], axis = 1)\n"
      ],
      "metadata": {
        "id": "RzxqnansKsno"
      },
      "execution_count": null,
      "outputs": []
    },
    {
      "cell_type": "code",
      "source": [
        "plt.figure(figsize=(6, 4))\n",
        "sns.countplot(data=y_train, x='Outcome')\n",
        "plt.xlabel('Outcome')\n",
        "plt.ylabel('Count')\n",
        "plt.title('Class Distribution of Outcome')\n",
        "plt.show()"
      ],
      "metadata": {
        "colab": {
          "base_uri": "https://localhost:8080/",
          "height": 410
        },
        "id": "zOb9ZFXASTL6",
        "outputId": "eb020494-f110-4df3-f75a-9f4892931b80"
      },
      "execution_count": null,
      "outputs": [
        {
          "output_type": "display_data",
          "data": {
            "text/plain": [
              "<Figure size 600x400 with 1 Axes>"
            ],
            "image/png": "[encoded data removed]"
          },
          "metadata": {}
        }
      ]
    },
    {
      "cell_type": "markdown",
      "source": [
        "The following model named run_model() is set up so that it can be applied to GLM and logistic regression model. It calculates AUC score, time taken and lists feature importance."
      ],
      "metadata": {
        "id": "THpW2aq64GA5"
      }
    },
    {
      "cell_type": "code",
      "source": [
        "def run_model(model, X_train, y_train, X_test, y_test):\n",
        "    t0=time.time()\n",
        "    train_data = h2o.H2OFrame(pd.concat([X_train, y_train], axis=1))\n",
        "    test_data = h2o.H2OFrame(pd.concat([X_test, y_test], axis=1))\n",
        "    response_column_name = \"Outcome\"\n",
        "    predictors = train_data.columns\n",
        "    predictors.remove(response_column_name)\n",
        "    model.train(x = predictors, y = response_column_name, training_frame=train_data)\n",
        "    performance = model.model_performance(test_data)\n",
        "    roc_auc = performance.auc()\n",
        "    time_taken = time.time()-t0\n",
        "    print(\"ROC Area under Curve = {}\".format(roc_auc))\n",
        "    print(\"Time taken = {}\".format(time_taken))\n",
        "    feature_importance = model.varimp(use_pandas=True)\n",
        "    print(\"Feature Importance:\")\n",
        "    print(feature_importance)\n",
        "    return model, roc_auc, time_taken"
      ],
      "metadata": {
        "id": "PY0oqWzMTc8m"
      },
      "execution_count": null,
      "outputs": []
    },
    {
      "cell_type": "markdown",
      "source": [
        "The following code instantiates the H2O server so that models can be applied on to the data."
      ],
      "metadata": {
        "id": "uR_vvklA4nk6"
      }
    },
    {
      "cell_type": "code",
      "source": [
        "import h2o\n",
        "h2o.init()"
      ],
      "metadata": {
        "colab": {
          "base_uri": "https://localhost:8080/",
          "height": 544
        },
        "id": "hK3uLzfkr2cP",
        "outputId": "2a0c5aa3-bca8-4d2e-eda3-d985d4e92655"
      },
      "execution_count": null,
      "outputs": [
        {
          "output_type": "stream",
          "name": "stdout",
          "text": [
            "Checking whether there is an H2O instance running at http://localhost:54321..... not found.\n",
            "Attempting to start a local H2O server...\n",
            "  Java Version: openjdk version \"11.0.20\" 2023-07-18; OpenJDK Runtime Environment (build 11.0.20+8-post-Ubuntu-1ubuntu122.04); OpenJDK 64-Bit Server VM (build 11.0.20+8-post-Ubuntu-1ubuntu122.04, mixed mode, sharing)\n",
            "  Starting server from /usr/local/lib/python3.10/dist-packages/h2o/backend/bin/h2o.jar\n",
            "  Ice root: /tmp/tmpiwbdciza\n",
            "  JVM stdout: /tmp/tmpiwbdciza/h2o_unknownUser_started_from_python.out\n",
            "  JVM stderr: /tmp/tmpiwbdciza/h2o_unknownUser_started_from_python.err\n",
            "  Server is running at http://127.0.0.1:54321\n",
            "Connecting to H2O server at http://127.0.0.1:54321 ... successful.\n"
          ]
        },
        {
          "output_type": "display_data",
          "data": {
            "text/plain": [
              "--------------------------  -----------------------------------------------------------------------------------------\n",
              "H2O_cluster_uptime:         03 secs\n",
              "H2O_cluster_timezone:       Etc/UTC\n",
              "H2O_data_parsing_timezone:  UTC\n",
              "H2O_cluster_version:        3.42.0.2\n",
              "H2O_cluster_version_age:    19 days\n",
              "H2O_cluster_name:           H2O_from_python_unknownUser_ew4jtk\n",
              "H2O_cluster_total_nodes:    1\n",
              "H2O_cluster_free_memory:    3.170 Gb\n",
              "H2O_cluster_total_cores:    2\n",
              "H2O_cluster_allowed_cores:  2\n",
              "H2O_cluster_status:         locked, healthy\n",
              "H2O_connection_url:         http://127.0.0.1:54321\n",
              "H2O_connection_proxy:       {\"http\": null, \"https\": null, \"colab_language_server\": \"/usr/colab/bin/language_service\"}\n",
              "H2O_internal_security:      False\n",
              "Python_version:             3.10.12 final\n",
              "--------------------------  -----------------------------------------------------------------------------------------"
            ],
            "text/html": [
              "\n",
              "<style>\n",
              "\n",
              "#h2o-table-1.h2o-container {\n",
              "  overflow-x: auto;\n",
              "}\n",
              "#h2o-table-1 .h2o-table {\n",
              "  /* width: 100%; */\n",
              "  margin-top: 1em;\n",
              "  margin-bottom: 1em;\n",
              "}\n",
              "#h2o-table-1 .h2o-table caption {\n",
              "  white-space: nowrap;\n",
              "  caption-side: top;\n",
              "  text-align: left;\n",
              "  /* margin-left: 1em; */\n",
              "  margin: 0;\n",
              "  font-size: larger;\n",
              "}\n",
              "#h2o-table-1 .h2o-table thead {\n",
              "  white-space: nowrap; \n",
              "  position: sticky;\n",
              "  top: 0;\n",
              "  box-shadow: 0 -1px inset;\n",
              "}\n",
              "#h2o-table-1 .h2o-table tbody {\n",
              "  overflow: auto;\n",
              "}\n",
              "#h2o-table-1 .h2o-table th,\n",
              "#h2o-table-1 .h2o-table td {\n",
              "  text-align: right;\n",
              "  /* border: 1px solid; */\n",
              "}\n",
              "#h2o-table-1 .h2o-table tr:nth-child(even) {\n",
              "  /* background: #F5F5F5 */\n",
              "}\n",
              "\n",
              "</style>      \n",
              "<div id=\"h2o-table-1\" class=\"h2o-container\">\n",
              "  <table class=\"h2o-table\">\n",
              "    <caption></caption>\n",
              "    <thead></thead>\n",
              "    <tbody><tr><td>H2O_cluster_uptime:</td>\n",
              "<td>03 secs</td></tr>\n",
              "<tr><td>H2O_cluster_timezone:</td>\n",
              "<td>Etc/UTC</td></tr>\n",
              "<tr><td>H2O_data_parsing_timezone:</td>\n",
              "<td>UTC</td></tr>\n",
              "<tr><td>H2O_cluster_version:</td>\n",
              "<td>3.42.0.2</td></tr>\n",
              "<tr><td>H2O_cluster_version_age:</td>\n",
              "<td>19 days</td></tr>\n",
              "<tr><td>H2O_cluster_name:</td>\n",
              "<td>H2O_from_python_unknownUser_ew4jtk</td></tr>\n",
              "<tr><td>H2O_cluster_total_nodes:</td>\n",
              "<td>1</td></tr>\n",
              "<tr><td>H2O_cluster_free_memory:</td>\n",
              "<td>3.170 Gb</td></tr>\n",
              "<tr><td>H2O_cluster_total_cores:</td>\n",
              "<td>2</td></tr>\n",
              "<tr><td>H2O_cluster_allowed_cores:</td>\n",
              "<td>2</td></tr>\n",
              "<tr><td>H2O_cluster_status:</td>\n",
              "<td>locked, healthy</td></tr>\n",
              "<tr><td>H2O_connection_url:</td>\n",
              "<td>http://127.0.0.1:54321</td></tr>\n",
              "<tr><td>H2O_connection_proxy:</td>\n",
              "<td>{\"http\": null, \"https\": null, \"colab_language_server\": \"/usr/colab/bin/language_service\"}</td></tr>\n",
              "<tr><td>H2O_internal_security:</td>\n",
              "<td>False</td></tr>\n",
              "<tr><td>Python_version:</td>\n",
              "<td>3.10.12 final</td></tr></tbody>\n",
              "  </table>\n",
              "</div>\n"
            ]
          },
          "metadata": {}
        }
      ]
    },
    {
      "cell_type": "markdown",
      "source": [
        "The following model applies GLM model and calculates time taken and ROC_AUC score. The roc_auc parameter typically refers to the area under the Receiver Operating Characteristic (ROC) curve (AUC).\n",
        "\n",
        "AUC = 1: Perfect classifier that can distinguish between both outcomes perfectly.\n",
        "AUC > 0.5 and < 1: Classifier performs better than random guessing, with higher values indicating better performance.\n",
        "AUC = 0.5: Classifier performs no better than random guessing.\n",
        "AUC < 0.5: Classifier performs worse than random guessing and is likely to be making incorrect predictions."
      ],
      "metadata": {
        "id": "4-Ignfit4qrp"
      }
    },
    {
      "cell_type": "code",
      "source": [
        "\n",
        "from h2o.estimators.glm import H2OGeneralizedLinearEstimator\n",
        "glm_model = H2OGeneralizedLinearEstimator(family='binomial', model_id='glm_model')\n",
        "glm_model, roc_auc_glm, tt_glm = run_model(glm_model,X_train, y_train, X_test, y_test)\n"
      ],
      "metadata": {
        "colab": {
          "base_uri": "https://localhost:8080/"
        },
        "id": "P5JAcZAkT7EY",
        "outputId": "c017ed8a-c531-4d9a-a26d-ca0f0e3aac1b"
      },
      "execution_count": null,
      "outputs": [
        {
          "output_type": "stream",
          "name": "stdout",
          "text": [
            "Parse progress: |████████████████████████████████████████████████████████████████| (done) 100%\n",
            "Parse progress: |████████████████████████████████████████████████████████████████| (done) 100%\n",
            "glm Model Build progress: |"
          ]
        },
        {
          "output_type": "stream",
          "name": "stderr",
          "text": [
            "/usr/local/lib/python3.10/dist-packages/h2o/estimators/estimator_base.py:192: RuntimeWarning: We have detected that your response column has only 2 unique values (0/1). If you wish to train a binary model instead of a regression model, convert your target column to categorical before training.\n",
            "  warnings.warn(mesg[\"message\"], RuntimeWarning)\n"
          ]
        },
        {
          "output_type": "stream",
          "name": "stdout",
          "text": [
            "██████████████████████████████████████████████████████| (done) 100%\n",
            "ROC Area under Curve = 0.8373837383738374\n",
            "Time taken = 2.859504461288452\n",
            "Feature Importance:\n",
            "                   variable  relative_importance  scaled_importance  \\\n",
            "0                   Glucose             1.329309           1.000000   \n",
            "1                       BMI             0.616223           0.463567   \n",
            "2               Pregnancies             0.480971           0.361821   \n",
            "3             BloodPressure             0.292301           0.219890   \n",
            "4                       Age             0.260468           0.195943   \n",
            "5  DiabetesPedigreeFunction             0.219561           0.165170   \n",
            "6                   Insulin             0.205210           0.154374   \n",
            "7             SkinThickness             0.000000           0.000000   \n",
            "\n",
            "   percentage  \n",
            "0    0.390509  \n",
            "1    0.181027  \n",
            "2    0.141294  \n",
            "3    0.085869  \n",
            "4    0.076517  \n",
            "5    0.064500  \n",
            "6    0.060284  \n",
            "7    0.000000  \n"
          ]
        }
      ]
    },
    {
      "cell_type": "markdown",
      "source": [
        "The following code computes ROC_AUC score and time taken for logistic regression."
      ],
      "metadata": {
        "id": "4nbDQJHt5Iqd"
      }
    },
    {
      "cell_type": "code",
      "source": [
        "\n",
        "from h2o.estimators.glm import H2OGeneralizedLinearEstimator\n",
        "lr_model = H2OGeneralizedLinearEstimator(family='binomial',model_id='logistic_regression_model')\n",
        "lr_model, roc_auc_lr, tt_lr = run_model(lr_model,X_train, y_train, X_test, y_test)\n"
      ],
      "metadata": {
        "colab": {
          "base_uri": "https://localhost:8080/"
        },
        "id": "hBp8LHbMhh8s",
        "outputId": "64b96d24-53ba-449e-db4d-a5d9cfb27b31"
      },
      "execution_count": null,
      "outputs": [
        {
          "output_type": "stream",
          "name": "stdout",
          "text": [
            "Parse progress: |████████████████████████████████████████████████████████████████| (done) 100%\n",
            "Parse progress: |████████████████████████████████████████████████████████████████| (done) 100%\n",
            "glm Model Build progress: |"
          ]
        },
        {
          "output_type": "stream",
          "name": "stderr",
          "text": [
            "/usr/local/lib/python3.10/dist-packages/h2o/estimators/estimator_base.py:192: RuntimeWarning: We have detected that your response column has only 2 unique values (0/1). If you wish to train a binary model instead of a regression model, convert your target column to categorical before training.\n",
            "  warnings.warn(mesg[\"message\"], RuntimeWarning)\n"
          ]
        },
        {
          "output_type": "stream",
          "name": "stdout",
          "text": [
            "██████████████████████████████████████████████████████| (done) 100%\n",
            "ROC Area under Curve = 0.8373837383738374\n",
            "Time taken = 1.0995078086853027\n",
            "Feature Importance:\n",
            "                   variable  relative_importance  scaled_importance  \\\n",
            "0                   Glucose             1.329309           1.000000   \n",
            "1                       BMI             0.616223           0.463567   \n",
            "2               Pregnancies             0.480971           0.361821   \n",
            "3             BloodPressure             0.292301           0.219890   \n",
            "4                       Age             0.260468           0.195943   \n",
            "5  DiabetesPedigreeFunction             0.219561           0.165170   \n",
            "6                   Insulin             0.205210           0.154374   \n",
            "7             SkinThickness             0.000000           0.000000   \n",
            "\n",
            "   percentage  \n",
            "0    0.390509  \n",
            "1    0.181027  \n",
            "2    0.141294  \n",
            "3    0.085869  \n",
            "4    0.076517  \n",
            "5    0.064500  \n",
            "6    0.060284  \n",
            "7    0.000000  \n"
          ]
        }
      ]
    },
    {
      "cell_type": "markdown",
      "source": [
        "The following code prepaares the data for XGB model"
      ],
      "metadata": {
        "id": "HOauDIN25SAj"
      }
    },
    {
      "cell_type": "code",
      "source": [
        "\n",
        "data = h2o.H2OFrame(data)\n",
        "data[\"Outcome\"] = data[\"Outcome\"].asfactor()\n",
        "predictors = data.columns\n",
        "response = \"Outcome\""
      ],
      "metadata": {
        "colab": {
          "base_uri": "https://localhost:8080/"
        },
        "id": "2XC_kUygUSEK",
        "outputId": "832c04e3-8372-4b7e-e3d8-dcacbbf6f5ba"
      },
      "execution_count": null,
      "outputs": [
        {
          "output_type": "stream",
          "name": "stdout",
          "text": [
            "Parse progress: |████████████████████████████████████████████████████████████████| (done) 100%\n"
          ]
        }
      ]
    },
    {
      "cell_type": "markdown",
      "source": [
        "The following model is to applied to XGB model."
      ],
      "metadata": {
        "id": "T1SLMs2q5Y01"
      }
    },
    {
      "cell_type": "code",
      "source": [
        "def run_model2(model, data):\n",
        "    t0=time.time()\n",
        "    train, valid = data.split_frame(ratios=[.8], seed=1234)\n",
        "    predictors = data.columns\n",
        "    response = \"Outcome\"\n",
        "    model.train(x = predictors, y = response, training_frame=train, validation_frame=valid)\n",
        "    performance = model.model_performance()\n",
        "    roc_auc = performance.auc()\n",
        "    time_taken = time.time()-t0\n",
        "    print(\"ROC Area under Curve = {}\".format(roc_auc))\n",
        "    print(\"Time taken = {}\".format(time_taken))\n",
        "    feature_importance = model.varimp(use_pandas=True)\n",
        "    print(\"Feature Importance:\")\n",
        "    print(feature_importance)\n",
        "    return model, roc_auc, time_taken"
      ],
      "metadata": {
        "id": "lQFi3GGSQKmJ"
      },
      "execution_count": null,
      "outputs": []
    },
    {
      "cell_type": "markdown",
      "source": [
        "The following code evaluates the results of XGB model"
      ],
      "metadata": {
        "id": "7MYwle725ej_"
      }
    },
    {
      "cell_type": "code",
      "source": [
        "\n",
        "from h2o.estimators import H2OXGBoostEstimator\n",
        "xgb_model = H2OXGBoostEstimator(booster='dart',\n",
        "                                  normalize_type=\"tree\",\n",
        "                                  seed=1234)\n",
        "xgb_model, roc_auc_xgb, tt_xgb = run_model2(xgb_model,data)\n"
      ],
      "metadata": {
        "colab": {
          "base_uri": "https://localhost:8080/"
        },
        "id": "zycf_uUUTlWm",
        "outputId": "2552a17f-c1c0-46da-fd06-4b5a0beee949"
      },
      "execution_count": null,
      "outputs": [
        {
          "output_type": "stream",
          "name": "stdout",
          "text": [
            "xgboost Model Build progress: |██████████████████████████████████████████████████| (done) 100%\n",
            "ROC Area under Curve = 1.0\n",
            "Time taken = 7.229818820953369\n",
            "Feature Importance:\n",
            "                   variable  relative_importance  scaled_importance  \\\n",
            "0                   Glucose           649.136353           1.000000   \n",
            "1                       BMI           331.318695           0.510399   \n",
            "2                       Age           228.876602           0.352586   \n",
            "3  DiabetesPedigreeFunction           225.145798           0.346839   \n",
            "4               Pregnancies           120.946007           0.186318   \n",
            "5             BloodPressure           118.771286           0.182968   \n",
            "6             SkinThickness           114.366684           0.176183   \n",
            "7                   Insulin           102.934311           0.158571   \n",
            "\n",
            "   percentage  \n",
            "0    0.343187  \n",
            "1    0.175162  \n",
            "2    0.121003  \n",
            "3    0.119031  \n",
            "4    0.063942  \n",
            "5    0.062792  \n",
            "6    0.060464  \n",
            "7    0.054420  \n"
          ]
        }
      ]
    },
    {
      "cell_type": "markdown",
      "source": [
        "The following code defines a model for Navies Bayes classifier"
      ],
      "metadata": {
        "id": "EEHOETzF5joL"
      }
    },
    {
      "cell_type": "code",
      "source": [
        "def run_model3(model, data):\n",
        "    t0=time.time()\n",
        "    predictors = data.columns\n",
        "    response = \"Outcome\"\n",
        "    predictors.remove(response)\n",
        "    model.train(x = predictors, y = response, training_frame=data)\n",
        "    performance = model.model_performance()\n",
        "    roc_auc = performance.auc()\n",
        "    time_taken = time.time()-t0\n",
        "    print(\"ROC Area under Curve = {}\".format(roc_auc))\n",
        "    print(\"Time taken = {}\".format(time_taken))\n",
        "    feature_importance = model.varimp(use_pandas=True)\n",
        "    print(\"Feature Importance:\")\n",
        "    print(feature_importance)\n",
        "    return model, roc_auc, time_taken"
      ],
      "metadata": {
        "id": "GUQfQjkfT6MF"
      },
      "execution_count": null,
      "outputs": []
    },
    {
      "cell_type": "markdown",
      "source": [
        "The following code computes the results of NB classifier"
      ],
      "metadata": {
        "id": "tEsmtlOa5ozU"
      }
    },
    {
      "cell_type": "code",
      "source": [
        "\n",
        "from h2o.estimators import H2ONaiveBayesEstimator\n",
        "NB_model = H2ONaiveBayesEstimator(laplace=0,\n",
        "                                 nfolds=5,\n",
        "                                 seed=1234)\n",
        "NB_model, roc_auc_NB, tt_NB = run_model3(NB_model,data)\n"
      ],
      "metadata": {
        "colab": {
          "base_uri": "https://localhost:8080/"
        },
        "id": "5Kjb1qE9iW8f",
        "outputId": "06abcd98-6d16-40a7-f7d3-9dcdda470b96"
      },
      "execution_count": null,
      "outputs": [
        {
          "output_type": "stream",
          "name": "stdout",
          "text": [
            "naivebayes Model Build progress: |███████████████████████████████████████████████| (done) 100%\n",
            "ROC Area under Curve = 0.8278540000000001\n",
            "Time taken = 1.1571674346923828\n",
            "Warning: This model doesn't have variable importances\n",
            "Feature Importance:\n",
            "None\n"
          ]
        }
      ]
    },
    {
      "cell_type": "markdown",
      "source": [
        "The following codes measures parameters for distributed random forest estimator"
      ],
      "metadata": {
        "id": "9yElHa585tay"
      }
    },
    {
      "cell_type": "code",
      "source": [
        "data[\"Outcome\"] = data[\"Outcome\"].asfactor()\n",
        "predictors = [\"Pregnancies\", \"Glucose\", \"BloodPressure\", \"SkinThickness\", \"Insulin\", \"BMI\", \"DiabetesPedigreeFunction\", \"Age\"]\n",
        "response = \"Outcome\""
      ],
      "metadata": {
        "id": "K9I3wjCky2Bl"
      },
      "execution_count": null,
      "outputs": []
    },
    {
      "cell_type": "code",
      "source": [],
      "metadata": {
        "id": "aDRd1QxeLVvv"
      },
      "execution_count": null,
      "outputs": []
    },
    {
      "cell_type": "code",
      "source": [
        "def run_model4(model, predictors, response, data):\n",
        "    t0=time.time()\n",
        "    train, valid = data.split_frame(ratios=[.8], seed=1234)\n",
        "    model.train(x=predictors,\n",
        "               y=response,\n",
        "               training_frame=train,\n",
        "               validation_frame=valid)\n",
        "    performance = model.model_performance()\n",
        "    roc_auc = performance.auc()\n",
        "    time_taken = time.time()-t0\n",
        "    print(\"ROC Area under Curve = {}\".format(roc_auc))\n",
        "    print(\"Time taken = {}\".format(time_taken))\n",
        "    feature_importance = model.varimp(use_pandas=True)\n",
        "    print(\"Feature Importance:\")\n",
        "    print(feature_importance)\n",
        "    return model, roc_auc, time_taken"
      ],
      "metadata": {
        "id": "fUXTPXGEjbaF"
      },
      "execution_count": null,
      "outputs": []
    },
    {
      "cell_type": "code",
      "source": [
        "from h2o.estimators import H2ORandomForestEstimator\n",
        "drf_model = H2ORandomForestEstimator()\n",
        "drf_model, roc_auc_drf, tt_drf = run_model4(drf_model, predictors, response, data)"
      ],
      "metadata": {
        "colab": {
          "base_uri": "https://localhost:8080/"
        },
        "id": "Djn0G8yruMrh",
        "outputId": "131ddbae-ba56-4448-ca17-9f0f595f7966"
      },
      "execution_count": null,
      "outputs": [
        {
          "output_type": "stream",
          "name": "stdout",
          "text": [
            "drf Model Build progress: |██████████████████████████████████████████████████████| (done) 100%\n",
            "ROC Area under Curve = 0.8556532069463104\n",
            "Time taken = 6.7681074142456055\n",
            "Feature Importance:\n",
            "                   variable  relative_importance  scaled_importance  \\\n",
            "0                   Glucose          1868.806519           1.000000   \n",
            "1                       BMI          1166.790283           0.624350   \n",
            "2                       Age           928.356750           0.496765   \n",
            "3  DiabetesPedigreeFunction           737.619080           0.394701   \n",
            "4               Pregnancies           581.584229           0.311206   \n",
            "5             BloodPressure           540.878845           0.289425   \n",
            "6             SkinThickness           445.577179           0.238429   \n",
            "7                   Insulin           413.931122           0.221495   \n",
            "\n",
            "   percentage  \n",
            "0    0.279613  \n",
            "1    0.174577  \n",
            "2    0.138902  \n",
            "3    0.110363  \n",
            "4    0.087017  \n",
            "5    0.080927  \n",
            "6    0.066668  \n",
            "7    0.061933  \n"
          ]
        }
      ]
    },
    {
      "cell_type": "markdown",
      "source": [
        "The following code evaluates deep learning for the data prediction"
      ],
      "metadata": {
        "id": "Ap6UBWpA57vT"
      }
    },
    {
      "cell_type": "code",
      "source": [
        "data = h2o.import_file(\"diabetes.csv\")\n",
        "def run_model5(model, data):\n",
        "    t0=time.time()\n",
        "    data[\"Outcome\"] = data[\"Outcome\"].asfactor()\n",
        "    train, test = data.split_frame(ratios=[0.8], seed=42)\n",
        "    predictors = data.columns[:-1]\n",
        "    response = \"Outcome\"\n",
        "    model.train(x=predictors, y=response, training_frame=train)\n",
        "    roc_auc = model.auc()\n",
        "    time_taken = time.time()-t0\n",
        "    print(\"ROC Area under Curve = {}\".format(roc_auc))\n",
        "    print(\"Time taken = {}\".format(time_taken))\n",
        "    feature_importance = model.varimp(use_pandas=True)\n",
        "    print(\"Feature Importance:\")\n",
        "    print(feature_importance)\n",
        "    return model, roc_auc, time_taken"
      ],
      "metadata": {
        "colab": {
          "base_uri": "https://localhost:8080/"
        },
        "id": "nvcNnLQFqgAK",
        "outputId": "d58a8a41-dde3-4b01-d333-d96a3e1f6916"
      },
      "execution_count": null,
      "outputs": [
        {
          "output_type": "stream",
          "name": "stdout",
          "text": [
            "Parse progress: |████████████████████████████████████████████████████████████████| (done) 100%\n"
          ]
        }
      ]
    },
    {
      "cell_type": "code",
      "source": [
        "from h2o.estimators.deeplearning import H2ODeepLearningEstimator\n",
        "dl_model = H2ODeepLearningEstimator(\n",
        "    distribution=\"bernoulli\",\n",
        "    activation=\"RectifierWithDropout\",\n",
        "    hidden=[50, 50],  # Two hidden layers with 50 neurons each\n",
        "    epochs=100,\n",
        "    stopping_rounds=5,\n",
        "    stopping_tolerance=1e-3,\n",
        "    seed=42\n",
        ")\n",
        "dl_model, roc_auc_dl, tt_dl = run_model5(dl_model, data)"
      ],
      "metadata": {
        "colab": {
          "base_uri": "https://localhost:8080/"
        },
        "id": "0OiKtmpGqfq5",
        "outputId": "390ebbf0-420a-4e75-ce52-d32826a4bf8d"
      },
      "execution_count": null,
      "outputs": [
        {
          "output_type": "stream",
          "name": "stdout",
          "text": [
            "deeplearning Model Build progress: |█████████████████████████████████████████████| (done) 100%\n",
            "ROC Area under Curve = 0.8775470762174106\n",
            "Time taken = 9.831513404846191\n",
            "Feature Importance:\n",
            "                   variable  relative_importance  scaled_importance  \\\n",
            "0                   Glucose             1.000000           1.000000   \n",
            "1                       BMI             0.748819           0.748819   \n",
            "2                       Age             0.729102           0.729102   \n",
            "3               Pregnancies             0.655767           0.655767   \n",
            "4  DiabetesPedigreeFunction             0.633771           0.633771   \n",
            "5             BloodPressure             0.560768           0.560768   \n",
            "6             SkinThickness             0.545411           0.545411   \n",
            "7                   Insulin             0.535592           0.535592   \n",
            "\n",
            "   percentage  \n",
            "0    0.184869  \n",
            "1    0.138434  \n",
            "2    0.134788  \n",
            "3    0.121231  \n",
            "4    0.117165  \n",
            "5    0.103669  \n",
            "6    0.100830  \n",
            "7    0.099014  \n"
          ]
        }
      ]
    },
    {
      "cell_type": "markdown",
      "source": [
        "The following code evaluates performance of decision trees."
      ],
      "metadata": {
        "id": "97zf--DB6Etx"
      }
    },
    {
      "cell_type": "code",
      "source": [
        "from h2o.estimators import H2ORandomForestEstimator\n",
        "dt_model = H2ORandomForestEstimator(\n",
        "    ntrees=100,\n",
        "    max_depth=20,\n",
        "    mtries=-1,\n",
        "    seed=42\n",
        ")\n",
        "dt_model, roc_auc_dt, tt_dt = run_model5(dt_model, data)"
      ],
      "metadata": {
        "colab": {
          "base_uri": "https://localhost:8080/"
        },
        "id": "8DDWyj7cqfdB",
        "outputId": "8ffa2c7d-abfd-45ed-ca53-afd24d2f7078"
      },
      "execution_count": null,
      "outputs": [
        {
          "output_type": "stream",
          "name": "stdout",
          "text": [
            "drf Model Build progress: |██████████████████████████████████████████████████████| (done) 100%\n",
            "ROC Area under Curve = 0.8864082923718168\n",
            "Time taken = 5.358531951904297\n",
            "Feature Importance:\n",
            "                   variable  relative_importance  scaled_importance  \\\n",
            "0                   Glucose          3578.755371           1.000000   \n",
            "1                       BMI          2089.552246           0.583877   \n",
            "2                       Age          1998.585327           0.558458   \n",
            "3  DiabetesPedigreeFunction          1477.260376           0.412786   \n",
            "4               Pregnancies          1221.067261           0.341199   \n",
            "5             BloodPressure          1018.306030           0.284542   \n",
            "6                   Insulin           914.791504           0.255617   \n",
            "7             SkinThickness           901.583740           0.251927   \n",
            "\n",
            "   percentage  \n",
            "0    0.271120  \n",
            "1    0.158301  \n",
            "2    0.151409  \n",
            "3    0.111914  \n",
            "4    0.092506  \n",
            "5    0.077145  \n",
            "6    0.069303  \n",
            "7    0.068302  \n"
          ]
        }
      ]
    },
    {
      "cell_type": "markdown",
      "source": [
        "The following code evaluates the performance of gradient boosting estimator"
      ],
      "metadata": {
        "id": "t2ASMZN46M-z"
      }
    },
    {
      "cell_type": "code",
      "source": [
        "from h2o.estimators import H2OGradientBoostingEstimator\n",
        "gbt_model = H2OGradientBoostingEstimator(\n",
        "    ntrees=100,\n",
        "    learn_rate=0.1,\n",
        "    max_depth=5,  # Maximum depth of the individual trees\n",
        "    min_rows=10,  # Minimum number of data points in each leaf\n",
        "    sample_rate=0.8,  # Randomly select 80% of data for each tree\n",
        "    col_sample_rate=0.8,  # Randomly select 80% of features for each tree\n",
        "    seed=42\n",
        ")\n",
        "gbt_model, roc_auc_gbt, tt_gbt = run_model5(gbt_model, data)"
      ],
      "metadata": {
        "colab": {
          "base_uri": "https://localhost:8080/"
        },
        "id": "0d5NlnS4qfPs",
        "outputId": "1f1f3bdf-88cd-443b-eec1-5a98f73c3418"
      },
      "execution_count": null,
      "outputs": [
        {
          "output_type": "stream",
          "name": "stdout",
          "text": [
            "gbm Model Build progress: |██████████████████████████████████████████████████████| (done) 100%\n",
            "ROC Area under Curve = 0.9989080507901332\n",
            "Time taken = 4.602686643600464\n",
            "Feature Importance:\n",
            "                   variable  relative_importance  scaled_importance  \\\n",
            "0                   Glucose           306.454620           1.000000   \n",
            "1                       BMI           147.208725           0.480361   \n",
            "2                       Age           109.819061           0.358353   \n",
            "3  DiabetesPedigreeFunction           103.010506           0.336136   \n",
            "4               Pregnancies            57.414982           0.187352   \n",
            "5             SkinThickness            46.519997           0.151801   \n",
            "6                   Insulin            44.331181           0.144658   \n",
            "7             BloodPressure            36.287930           0.118412   \n",
            "\n",
            "   percentage  \n",
            "0    0.360091  \n",
            "1    0.172974  \n",
            "2    0.129040  \n",
            "3    0.121040  \n",
            "4    0.067464  \n",
            "5    0.054662  \n",
            "6    0.052090  \n",
            "7    0.042639  \n"
          ]
        }
      ]
    },
    {
      "cell_type": "markdown",
      "source": [
        "The following code plots scores and time taken by different models in one graph so that performance of each algorithm can be visualized.\n"
      ],
      "metadata": {
        "id": "CNYeVk3F6TJT"
      }
    },
    {
      "cell_type": "code",
      "source": [
        "roc_auc_scores = [roc_auc_glm, roc_auc_lr, roc_auc_xgb, roc_auc_NB, roc_auc_drf, roc_auc_dl, roc_auc_dt, roc_auc_gbt]\n",
        "tt = [tt_glm, tt_lr, tt_xgb, tt_NB, tt_drf, tt_dl, tt_dt, tt_gbt]\n",
        "\n",
        "model_data = {'Model': ['GLM','Logistic Regression','XGB','Naive Bayes','Distributed Random Forest', 'Deep Learning', 'Decision Tree', 'Gradient Boosting trees'],\n",
        "              'ROC_AUC': roc_auc_scores,\n",
        "              'Time taken': tt}\n",
        "data = pd.DataFrame(model_data)\n",
        "\n",
        "fig, ax1 = plt.subplots(figsize=(20,8))\n",
        "ax1.set_title('Model Comparison: Area under ROC Curve and Time taken for execution by Various Models', fontsize=14)\n",
        "color = 'tab:green'\n",
        "ax1.set_xlabel('Model', fontsize=14)\n",
        "ax1.set_ylabel('Time taken', fontsize=14, color=color)\n",
        "ax2 = sns.barplot(x='Model', y='Time taken', data = data, palette='GnBu_r')\n",
        "ax1.tick_params(axis='y')\n",
        "ax2 = ax1.twinx()\n",
        "color = 'tab:red'\n",
        "ax2.set_ylabel('ROC_AUC', fontsize=14, color=color)\n",
        "ax2 = sns.lineplot(x='Model', y='ROC_AUC', data = data, sort=False, color=color)\n",
        "ax2.tick_params(axis='y', color=color)"
      ],
      "metadata": {
        "colab": {
          "base_uri": "https://localhost:8080/",
          "height": 410
        },
        "id": "l-a4uQthxguy",
        "outputId": "7a8f59c1-de4e-4cae-eebb-4592ce706784"
      },
      "execution_count": null,
      "outputs": [
        {
          "output_type": "display_data",
          "data": {
            "text/plain": [
              "<Figure size 2000x800 with 2 Axes>"
            ],
            "image/png": "[encoded data removed]"
          },
          "metadata": {}
        }
      ]
    },
    {
      "cell_type": "markdown",
      "source": [
        "Here gradient boosting trees is the best model as it gives AUC score closer to one and the time taken to implement this model is less than XGB. Therefore, we took Gradient boosting trees and tried to tune the hyperparameters to see whether it further improves it or not.\n",
        "\n",
        "In the previous gradient boosted model, the hyperparameters were random. But the optimal parameters produced by rapidminer modelling were as shown in the image\n"
      ],
      "metadata": {
        "id": "S9Bu8jIZolse"
      }
    },
    {
      "cell_type": "markdown",
      "source": [
        "![image.png](data:image/png;base64,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)"
      ],
      "metadata": {
        "id": "KIPEWnBJtTho"
      }
    },
    {
      "cell_type": "markdown",
      "source": [
        "We have tried to use these optimal parameters to see whether it affects the performance in positive way or not."
      ],
      "metadata": {
        "id": "-dmLQHKPtazR"
      }
    },
    {
      "cell_type": "code",
      "source": [
        "data = h2o.import_file(\"diabetes.csv\")\n",
        "from h2o.estimators import H2OGradientBoostingEstimator\n",
        "gbt_model2 = H2OGradientBoostingEstimator(\n",
        "    ntrees=30,\n",
        "    learn_rate=0.1,\n",
        "    max_depth=4,\n",
        "    min_rows=10,\n",
        "    sample_rate=0.8,\n",
        "    col_sample_rate=0.8,\n",
        "    seed=142\n",
        ")\n",
        "gbt_model2, roc_auc_gbt2, tt_gbt2 = run_model5(gbt_model2, data)"
      ],
      "metadata": {
        "colab": {
          "base_uri": "https://localhost:8080/"
        },
        "id": "NCXFOl9MtTDa",
        "outputId": "dd63022c-0aae-47c5-b4fc-6f86313301de"
      },
      "execution_count": null,
      "outputs": [
        {
          "output_type": "stream",
          "name": "stdout",
          "text": [
            "Parse progress: |████████████████████████████████████████████████████████████████| (done) 100%\n",
            "gbm Model Build progress: |██████████████████████████████████████████████████████| (done) 100%\n",
            "ROC Area under Curve = 0.9456312368337983\n",
            "Time taken = 2.765652894973755\n",
            "Feature Importance:\n",
            "                   variable  relative_importance  scaled_importance  \\\n",
            "0                   Glucose           283.178619           1.000000   \n",
            "1                       BMI           102.846809           0.363187   \n",
            "2                       Age            82.141960           0.290071   \n",
            "3  DiabetesPedigreeFunction            54.920563           0.193943   \n",
            "4               Pregnancies            37.636814           0.132908   \n",
            "5                   Insulin            17.097326           0.060376   \n",
            "6             BloodPressure            13.755662           0.048576   \n",
            "7             SkinThickness            12.407922           0.043817   \n",
            "\n",
            "   percentage  \n",
            "0    0.468850  \n",
            "1    0.170280  \n",
            "2    0.136000  \n",
            "3    0.090930  \n",
            "4    0.062314  \n",
            "5    0.028308  \n",
            "6    0.022775  \n",
            "7    0.020543  \n"
          ]
        }
      ]
    },
    {
      "cell_type": "markdown",
      "source": [
        "So lets compare it with the previous values"
      ],
      "metadata": {
        "id": "sgUVTueXuB2n"
      }
    },
    {
      "cell_type": "code",
      "source": [
        "roc_auc_scores = [roc_auc_gbt, roc_auc_gbt2]\n",
        "tt = [tt_gbt, tt_gbt2]\n",
        "\n",
        "model_data = {'Model': [ 'Gradient Boosting trees', 'Gradient Boosted trees with optimal parameters'],\n",
        "              'ROC_AUC': roc_auc_scores,\n",
        "              'Time taken': tt}\n",
        "data = pd.DataFrame(model_data)\n",
        "\n",
        "fig, ax1 = plt.subplots(figsize=(20,8))\n",
        "ax1.set_title('Model Comparison: Area under ROC Curve and Time taken for execution by Various Models', fontsize=14)\n",
        "color = 'tab:green'\n",
        "ax1.set_xlabel('Model', fontsize=14)\n",
        "ax1.set_ylabel('Time taken', fontsize=14, color=color)\n",
        "ax2 = sns.barplot(x='Model', y='Time taken', data = data, palette='GnBu_r')\n",
        "ax1.tick_params(axis='y')\n",
        "ax2 = ax1.twinx()\n",
        "color = 'tab:red'\n",
        "ax2.set_ylabel('ROC_AUC', fontsize=14, color=color)\n",
        "ax2 = sns.lineplot(x='Model', y='ROC_AUC', data = data, sort=False, color=color)\n",
        "ax2.tick_params(axis='y', color=color)"
      ],
      "metadata": {
        "colab": {
          "base_uri": "https://localhost:8080/",
          "height": 414
        },
        "id": "9v7n6GJIsv8H",
        "outputId": "a68a50c4-16a6-4a13-8703-ce4f483a6e7f"
      },
      "execution_count": null,
      "outputs": [
        {
          "output_type": "display_data",
          "data": {
            "text/plain": [
              "<Figure size 2000x800 with 2 Axes>"
            ],
            "image/png": "[encoded data removed]"
          },
          "metadata": {}
        }
      ]
    },
    {
      "cell_type": "markdown",
      "source": [
        "In our model, using optimal parameters from rapidminer reduced the time taken to complete the model, but it also compromised with AUC score which went down to 0.945 which was previously 0.9989"
      ],
      "metadata": {
        "id": "shMPwxf5vOza"
      }
    },
    {
      "cell_type": "code",
      "source": [],
      "metadata": {
        "id": "pdHThi8FufX0"
      },
      "execution_count": null,
      "outputs": []
    }
  ]
}